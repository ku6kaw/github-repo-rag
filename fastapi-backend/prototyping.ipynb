{
 "cells": [
  {
   "cell_type": "code",
   "execution_count": 1,
   "id": "c0d5faee-8fe2-45eb-b01c-938b32125fe7",
   "metadata": {},
   "outputs": [
    {
     "name": "stderr",
     "output_type": "stream",
     "text": [
      "/mnt/c/Users/reore/Projects/github-repo-rag/fastapi-backend/.venv/lib/python3.10/site-packages/pydantic/_internal/_generate_schema.py:2249: UnsupportedFieldAttributeWarning: The 'validate_default' attribute with value True was provided to the `Field()` function, which has no effect in the context it was used. 'validate_default' is field-specific metadata, and can only be attached to a model field using `Annotated` metadata or by assignment. This may have happened because an `Annotated` type alias using the `type` statement was used, or if the `Field()` function was attached to a single member of a union type.\n",
      "  warnings.warn(\n"
     ]
    },
    {
     "name": "stdout",
     "output_type": "stream",
     "text": [
      "ライブラリのインポート完了\n"
     ]
    }
   ],
   "source": [
    "# セル 1: 必要なライブラリのインポート\n",
    "import os\n",
    "from dotenv import load_dotenv\n",
    "\n",
    "# Qdrant (ベクトルDB)\n",
    "import qdrant_client\n",
    "from llama_index.vector_stores.qdrant import QdrantVectorStore\n",
    "\n",
    "# LlamaIndex コアコンポーネント\n",
    "from llama_index.core import (\n",
    "    VectorStoreIndex,\n",
    "    SimpleDirectoryReader,\n",
    "    StorageContext,\n",
    "    Settings,\n",
    ")\n",
    "from llama_index.core.node_parser import CodeSplitter\n",
    "\n",
    "# LLM & Embedding (★変更点)\n",
    "from llama_index.llms.openai import OpenAI\n",
    "from llama_index.embeddings.huggingface import HuggingFaceEmbedding # ★HuggingFaceをインポート\n",
    "\n",
    "# Git (リポジトリクローン用)\n",
    "from git import Repo\n",
    "import shutil # フォルダ削除用\n",
    "\n",
    "print(\"ライブラリのインポート完了\")"
   ]
  },
  {
   "cell_type": "code",
   "execution_count": 2,
   "id": "61b8ab10-970a-45e0-8133-825d0b409762",
   "metadata": {},
   "outputs": [
    {
     "name": "stdout",
     "output_type": "stream",
     "text": [
      "LLM(OpenAI) と Embedding(Local HuggingFace) の設定完了\n"
     ]
    }
   ],
   "source": [
    "# セル 2: APIキーの読み込みとLLM・Embeddingの設定 (★ここが変更点)\n",
    "# .env ファイルから環境変数を読み込む\n",
    "load_dotenv()\n",
    "\n",
    "# 1. LLM (回答生成用モデル) は OpenAI のまま\n",
    "Settings.llm = OpenAI(model=\"gpt-4o\")\n",
    "\n",
    "# 2. Embedding (ベクトル化用モデル) をローカルモデルに変更\n",
    "# これによりレートリミットがなくなります\n",
    "# (初回実行時にモデルのダウンロードが走ります)\n",
    "Settings.embedding = HuggingFaceEmbedding(\n",
    "    model_name=\"BAAI/bge-small-en-v1.5\"\n",
    ")\n",
    "\n",
    "print(\"LLM(OpenAI) と Embedding(Local HuggingFace) の設定完了\")"
   ]
  },
  {
   "cell_type": "code",
   "execution_count": 3,
   "id": "e2516aaf-ba46-424c-9acb-2d141af62995",
   "metadata": {},
   "outputs": [
    {
     "name": "stdout",
     "output_type": "stream",
     "text": [
      "対象リポジトリ: https://github.com/tiangolo/fastapi\n",
      "対象DBコレクション: fastapi_tutorial_local\n"
     ]
    }
   ],
   "source": [
    "# セル 3: 定数の設定 (リポジトリとDB)\n",
    "\n",
    "# 1. 分析対象のGitHubリポジトリ\n",
    "REPO_URL = \"https://github.com/tiangolo/fastapi\"\n",
    "# クローン先の一時ディレクトリ\n",
    "REPO_PATH = \"./temp_repo\"\n",
    "# リポジトリ内で読み込む対象（今回はチュートリアル部分のみ）\n",
    "TARGET_DIR = os.path.join(REPO_PATH, \"docs/en/docs/tutorial\")\n",
    "\n",
    "# 2. Qdrant の設定\n",
    "QDRANT_HOST = \"localhost\"\n",
    "QDRANT_PORT = 6333\n",
    "COLLECTION_NAME = \"fastapi_tutorial_local\" # ★名前を変更（任意）\n",
    "\n",
    "print(f\"対象リポジトリ: {REPO_URL}\")\n",
    "print(f\"対象DBコレクション: {COLLECTION_NAME}\")"
   ]
  },
  {
   "cell_type": "code",
   "execution_count": 4,
   "id": "c47267f5-f430-41a4-a045-0b9f3b612960",
   "metadata": {},
   "outputs": [
    {
     "name": "stdout",
     "output_type": "stream",
     "text": [
      "./temp_repo を削除しています...\n",
      "https://github.com/tiangolo/fastapi を ./temp_repo にクローンしています...\n",
      "クローン完了\n"
     ]
    }
   ],
   "source": [
    "# セル 4: GitHubリポジトリのクローン\n",
    "# (注意: 実行すると ./temp_repo フォルダが作成されます)\n",
    "\n",
    "# 既に存在する場合は一度削除\n",
    "if os.path.exists(REPO_PATH):\n",
    "    print(f\"{REPO_PATH} を削除しています...\")\n",
    "    shutil.rmtree(REPO_PATH, ignore_errors=True)\n",
    "\n",
    "print(f\"{REPO_URL} を {REPO_PATH} にクローンしています...\")\n",
    "Repo.clone_from(REPO_URL, REPO_PATH)\n",
    "\n",
    "print(\"クローン完了\")"
   ]
  },
  {
   "cell_type": "code",
   "execution_count": 5,
   "id": "ca2b658d-5011-40b1-a20c-537fbdf52525",
   "metadata": {},
   "outputs": [
    {
     "name": "stdout",
     "output_type": "stream",
     "text": [
      "48 個のドキュメントを読み込みました。\n"
     ]
    }
   ],
   "source": [
    "# セル 5: データの読み込み (LlamaIndex Reader)\n",
    "\n",
    "reader = SimpleDirectoryReader(\n",
    "    input_dir=TARGET_DIR,\n",
    "    required_exts=[\".md\"], # 今回はマークダウン(ドキュメント)のみ対象\n",
    "    recursive=True, \n",
    ")\n",
    "\n",
    "documents = reader.load_data()\n",
    "\n",
    "print(f\"{len(documents)} 個のドキュメントを読み込みました。\")"
   ]
  },
  {
   "cell_type": "code",
   "execution_count": 6,
   "id": "205e7a09-14f4-4e66-af39-92b14b6e1f84",
   "metadata": {},
   "outputs": [
    {
     "name": "stdout",
     "output_type": "stream",
     "text": [
      "250 個のノード（チャンク）に分割しました。\n"
     ]
    }
   ],
   "source": [
    "# セル 6: チャンキング (CodeSplitterによる分割)\n",
    "\n",
    "splitter = CodeSplitter(\n",
    "    language=\"markdown\",\n",
    "    chunk_lines=50,       \n",
    "    chunk_lines_overlap=15, \n",
    "    max_chars=2000,       \n",
    ")\n",
    "\n",
    "nodes = splitter.get_nodes_from_documents(documents)\n",
    "\n",
    "print(f\"{len(nodes)} 個のノード（チャンク）に分割しました。\")"
   ]
  },
  {
   "cell_type": "code",
   "execution_count": 7,
   "id": "ff5c0979-897d-4de7-a209-9b886c80bc13",
   "metadata": {},
   "outputs": [
    {
     "name": "stderr",
     "output_type": "stream",
     "text": [
      "2025-10-20 16:10:43,767 - INFO - HTTP Request: GET http://localhost:6333 \"HTTP/1.1 200 OK\"\n",
      "2025-10-20 16:10:43,771 - INFO - HTTP Request: GET http://localhost:6333/collections/fastapi_tutorial_local/exists \"HTTP/1.1 200 OK\"\n"
     ]
    },
    {
     "name": "stdout",
     "output_type": "stream",
     "text": [
      "Qdrantへの接続とストレージ設定完了\n",
      "インデックスを構築中... (初回はモデルダウンロードのため時間がかかります)\n"
     ]
    },
    {
     "name": "stderr",
     "output_type": "stream",
     "text": [
      "2025-10-20 16:10:49,416 - INFO - HTTP Request: POST https://api.openai.com/v1/embeddings \"HTTP/1.1 200 OK\"\n",
      "2025-10-20 16:10:50,141 - INFO - HTTP Request: POST https://api.openai.com/v1/embeddings \"HTTP/1.1 200 OK\"\n",
      "2025-10-20 16:10:50,437 - INFO - HTTP Request: POST https://api.openai.com/v1/embeddings \"HTTP/1.1 429 Too Many Requests\"\n",
      "2025-10-20 16:10:50,438 - INFO - Retrying request to /embeddings in 1.064000 seconds\n",
      "2025-10-20 16:10:51,972 - INFO - HTTP Request: POST https://api.openai.com/v1/embeddings \"HTTP/1.1 429 Too Many Requests\"\n",
      "2025-10-20 16:10:51,973 - INFO - Retrying request to /embeddings in 26.611000 seconds\n",
      "2025-10-20 16:11:19,844 - INFO - HTTP Request: POST https://api.openai.com/v1/embeddings \"HTTP/1.1 429 Too Many Requests\"\n",
      "2025-10-20 16:11:19,845 - INFO - Retrying request to /embeddings in 26.611000 seconds\n",
      "2025-10-20 16:11:47,461 - INFO - HTTP Request: POST https://api.openai.com/v1/embeddings \"HTTP/1.1 200 OK\"\n",
      "2025-10-20 16:11:48,692 - INFO - HTTP Request: PUT http://localhost:6333/collections/fastapi_tutorial_local \"HTTP/1.1 200 OK\"\n",
      "2025-10-20 16:11:49,976 - INFO - HTTP Request: PUT http://localhost:6333/collections/fastapi_tutorial_local/index?wait=true \"HTTP/1.1 200 OK\"\n",
      "2025-10-20 16:11:49,983 - INFO - HTTP Request: GET http://localhost:6333/collections/fastapi_tutorial_local \"HTTP/1.1 200 OK\"\n",
      "2025-10-20 16:11:50,220 - INFO - HTTP Request: PUT http://localhost:6333/collections/fastapi_tutorial_local/points?wait=true \"HTTP/1.1 200 OK\"\n",
      "2025-10-20 16:11:50,325 - INFO - HTTP Request: PUT http://localhost:6333/collections/fastapi_tutorial_local/points?wait=true \"HTTP/1.1 200 OK\"\n",
      "2025-10-20 16:11:50,429 - INFO - HTTP Request: PUT http://localhost:6333/collections/fastapi_tutorial_local/points?wait=true \"HTTP/1.1 200 OK\"\n",
      "2025-10-20 16:11:50,531 - INFO - HTTP Request: PUT http://localhost:6333/collections/fastapi_tutorial_local/points?wait=true \"HTTP/1.1 200 OK\"\n"
     ]
    },
    {
     "name": "stdout",
     "output_type": "stream",
     "text": [
      "インデックス構築完了！\n"
     ]
    }
   ],
   "source": [
    "# セル 7: Qdrantクライアントの初期化とインデックス構築\n",
    "\n",
    "# 1. Qdrantクライアントを初期化 (ローカルDBへ接続)\n",
    "client = qdrant_client.QdrantClient(host=QDRANT_HOST, port=QDRANT_PORT)\n",
    "\n",
    "# 2. LlamaIndex用のベクトルストアアダプタを作成\n",
    "vector_store = QdrantVectorStore(\n",
    "    client=client, \n",
    "    collection_name=COLLECTION_NAME\n",
    ")\n",
    "\n",
    "# 3. ストレージコンテキストを作成\n",
    "storage_context = StorageContext.from_defaults(vector_store=vector_store)\n",
    "\n",
    "print(\"Qdrantへの接続とストレージ設定完了\")\n",
    "\n",
    "# 4. インデックスの構築\n",
    "# (この処理で、ローカルモデルが起動し Embedding 化され Qdrant に保存されます)\n",
    "print(\"インデックスを構築中... (初回はモデルダウンロードのため時間がかかります)\")\n",
    "index = VectorStoreIndex(\n",
    "    nodes, # Step 6 で作成したノード\n",
    "    storage_context=storage_context,\n",
    "    # Settings (LLMとEmbedding) は Step 2 で設定済み\n",
    ")\n",
    "\n",
    "print(\"インデックス構築完了！\")"
   ]
  },
  {
   "cell_type": "code",
   "execution_count": 8,
   "id": "f2789b25-ee35-43c3-acc3-f32b86ecff2f",
   "metadata": {},
   "outputs": [
    {
     "name": "stderr",
     "output_type": "stream",
     "text": [
      "2025-10-20 16:11:50,839 - INFO - HTTP Request: GET http://localhost:6333 \"HTTP/1.1 200 OK\"\n",
      "2025-10-20 16:11:50,843 - INFO - HTTP Request: GET http://localhost:6333/collections/fastapi_tutorial_local/exists \"HTTP/1.1 200 OK\"\n",
      "2025-10-20 16:11:50,848 - INFO - HTTP Request: GET http://localhost:6333/collections/fastapi_tutorial_local \"HTTP/1.1 200 OK\"\n"
     ]
    },
    {
     "name": "stdout",
     "output_type": "stream",
     "text": [
      "クエリエンジン作成完了。質問待機中...\n"
     ]
    }
   ],
   "source": [
    "# セル 8: クエリの実行 (RAGのテスト)\n",
    "\n",
    "# Qdrantからインデックスを読み込む\n",
    "client = qdrant_client.QdrantClient(host=QDRANT_HOST, port=QDRANT_PORT)\n",
    "vector_store = QdrantVectorStore(client=client, collection_name=COLLECTION_NAME)\n",
    "\n",
    "index = VectorStoreIndex.from_vector_store(\n",
    "    vector_store=vector_store,\n",
    "    # Settings は Step 2 で設定済み\n",
    ")\n",
    "\n",
    "# クエリエンジンを作成\n",
    "query_engine = index.as_query_engine(\n",
    "    similarity_top_k=5 \n",
    ")\n",
    "\n",
    "print(\"クエリエンジン作成完了。質問待機中...\")"
   ]
  },
  {
   "cell_type": "code",
   "execution_count": 9,
   "id": "3a6a3851-1a81-4b2e-bb88-262a6a4803b1",
   "metadata": {},
   "outputs": [
    {
     "name": "stdout",
     "output_type": "stream",
     "text": [
      "質問: FastAPIでパスパラメータを定義する方法は？\n",
      "\n"
     ]
    },
    {
     "name": "stderr",
     "output_type": "stream",
     "text": [
      "2025-10-20 16:11:51,258 - INFO - HTTP Request: POST https://api.openai.com/v1/embeddings \"HTTP/1.1 200 OK\"\n",
      "2025-10-20 16:11:51,268 - INFO - HTTP Request: POST http://localhost:6333/collections/fastapi_tutorial_local/points/search \"HTTP/1.1 200 OK\"\n",
      "2025-10-20 16:11:55,054 - INFO - HTTP Request: POST https://api.openai.com/v1/chat/completions \"HTTP/1.1 200 OK\"\n"
     ]
    },
    {
     "name": "stdout",
     "output_type": "stream",
     "text": [
      "回答:\n",
      "FastAPIでパスパラメータを定義するには、Pythonのフォーマット文字列と同じ構文を使用します。関数の引数としてパスパラメータを宣言し、Pythonの型アノテーションを使用してその型を指定することもできます。これにより、エディタのサポートや自動的なリクエストのパースが可能になります。また、Starletteの内部ツールを使用して、パスパラメータにパスを含めることもできます。\n"
     ]
    }
   ],
   "source": [
    "# セル 9: 質問してみる\n",
    "\n",
    "query = \"FastAPIでパスパラメータを定義する方法は？\"\n",
    "# query = \"Pydanticモデルとは何ですか？\"\n",
    "\n",
    "print(f\"質問: {query}\\n\")\n",
    "\n",
    "response = query_engine.query(query)\n",
    "\n",
    "print(\"回答:\")\n",
    "print(str(response))"
   ]
  },
  {
   "cell_type": "code",
   "execution_count": 10,
   "id": "708fc59d-9d95-4ea5-b637-7119a9019415",
   "metadata": {},
   "outputs": [
    {
     "name": "stdout",
     "output_type": "stream",
     "text": [
      "--- ソース 1 (Score: 0.7878) ---\n",
      "# Path Parameters { #path-parameters }\n",
      "\n",
      "You can declare path \"parameters\" or \"variables\" with the same syntax used by Python format strings:\n",
      "\n",
      "{* ../../docs_src/path_params/tutorial001.py hl[6:7] *}\n",
      "\n",
      "The value of the path parameter `item_id` will be passed to your function as the argument `item_id`.\n",
      "\n",
      "So, if you run this example and go to <a href=\"http://127.0.0.1:8000/items/foo\" class=\"external-link\" target=\"_blank\">http://127.0.0.1:8000/items/foo</a>, you will see a response of:\n",
      "\n",
      "```JSON\n",
      "{\"item_...\n",
      "--------------------\n",
      "--- ソース 2 (Score: 0.7825) ---\n",
      "## Path parameters containing paths { #path-parameters-containing-paths }\n",
      "\n",
      "Let's say you have a *path operation* with a path `/files/{file_path}`.\n",
      "\n",
      "But you need `file_path` itself to contain a *path*, like `home/johndoe/myfile.txt`.\n",
      "\n",
      "So, the URL for that file would be something like: `/files/home/johndoe/myfile.txt`.\n",
      "\n",
      "### OpenAPI support { #openapi-support }\n",
      "\n",
      "OpenAPI doesn't support a way to declare a *path parameter* to contain a *path* inside, as that could lead to scenarios that are difficult...\n",
      "--------------------\n",
      "--- ソース 3 (Score: 0.7747) ---\n",
      "## **FastAPI** utilities { #fastapi-utilities }\n",
      "\n",
      "FastAPI provides several tools for each of these security schemes in the `fastapi.security` module that simplify using these security mechanisms.\n",
      "\n",
      "In the next chapters you will see how to add security to your API using those tools provided by **FastAPI**.\n",
      "\n",
      "And you will also see how it gets automatically integrated into the interactive documentation system....\n",
      "--------------------\n",
      "--- ソース 4 (Score: 0.7701) ---\n",
      "# Testing { #testing }\n",
      "\n",
      "Thanks to <a href=\"https://www.starlette.dev/testclient/\" class=\"external-link\" target=\"_blank\">Starlette</a>, testing **FastAPI** applications is easy and enjoyable.\n",
      "\n",
      "It is based on <a href=\"https://www.python-httpx.org\" class=\"external-link\" target=\"_blank\">HTTPX</a>, which in turn is designed based on Requests, so it's very familiar and intuitive.\n",
      "\n",
      "With it, you can use <a href=\"https://docs.pytest.org/\" class=\"external-link\" target=\"_blank\">pytest</a> directly with **F...\n",
      "--------------------\n",
      "--- ソース 5 (Score: 0.7692) ---\n",
      "## Recap { #recap }\n",
      "\n",
      "Declare headers with `Header`, using the same common pattern as `Query`, `Path` and `Cookie`.\n",
      "\n",
      "And don't worry about underscores in your variables, **FastAPI** will take care of converting them....\n",
      "--------------------\n"
     ]
    }
   ],
   "source": [
    "# セル 10: (おまけ) ソースノードの確認\n",
    "\n",
    "for i, node in enumerate(response.source_nodes):\n",
    "    print(f\"--- ソース {i+1} (Score: {node.score:.4f}) ---\")\n",
    "    print(node.get_content()[:500] + \"...\") \n",
    "    print(\"-\" * 20)"
   ]
  }
 ],
 "metadata": {
  "kernelspec": {
   "display_name": "Python 3 (ipykernel)",
   "language": "python",
   "name": "python3"
  },
  "language_info": {
   "codemirror_mode": {
    "name": "ipython",
    "version": 3
   },
   "file_extension": ".py",
   "mimetype": "text/x-python",
   "name": "python",
   "nbconvert_exporter": "python",
   "pygments_lexer": "ipython3",
   "version": "3.10.12"
  }
 },
 "nbformat": 4,
 "nbformat_minor": 5
}
